{
 "cells": [
  {
   "cell_type": "markdown",
   "metadata": {},
   "source": [
    "# pipda\n",
    "\n",
    "A framework for data piping in python\n",
    "\n",
    "Inspired by [siuba][1], [dfply][2], [plydata][3] and [dplython][4], but with simple yet powerful APIs to mimic the `dplyr` and `tidyr` packages in python\n",
    "\n",
    "## Installation\n",
    "```shell\n",
    "pip install -U pipda\n",
    "```\n",
    "\n",
    "## Usage\n",
    "\n",
    "Checkout [plyrda][6] for more detailed usages.\n",
    "\n",
    "### Verbs\n",
    "\n",
    "Verbs are functions next to the piping sign (i.e. `>>`) receiving the data directly.\n"
   ]
  },
  {
   "cell_type": "code",
   "execution_count": 28,
   "metadata": {},
   "outputs": [
    {
     "data": {
      "text/html": "<div>\n<style scoped>\n    .dataframe tbody tr th:only-of-type {\n        vertical-align: middle;\n    }\n\n    .dataframe tbody tr th {\n        vertical-align: top;\n    }\n\n    .dataframe thead th {\n        text-align: right;\n    }\n</style>\n<table border=\"1\" class=\"dataframe\">\n  <thead>\n    <tr style=\"text-align: right;\">\n      <th></th>\n      <th>x</th>\n      <th>y</th>\n    </tr>\n  </thead>\n  <tbody>\n    <tr>\n      <th>0</th>\n      <td>0</td>\n      <td>zero</td>\n    </tr>\n    <tr>\n      <th>1</th>\n      <td>1</td>\n      <td>one</td>\n    </tr>\n    <tr>\n      <th>2</th>\n      <td>2</td>\n      <td>two</td>\n    </tr>\n    <tr>\n      <th>3</th>\n      <td>3</td>\n      <td>three</td>\n    </tr>\n  </tbody>\n</table>\n</div>",
      "text/plain": "   x      y\n0  0   zero\n1  1    one\n2  2    two\n3  3  three"
     },
     "execution_count": 28,
     "metadata": {},
     "output_type": "execute_result"
    }
   ],
   "source": [
    "import pandas as pd\n",
    "from pipda import (\n",
    "    register_verb, \n",
    "    register_func, \n",
    "    register_operator, \n",
    "    evaluate_expr,\n",
    "    Operator, \n",
    "    Symbolic,\n",
    "    Context\n",
    ")\n",
    "\n",
    "f = Symbolic()\n",
    "\n",
    "df = pd.DataFrame({\n",
    "    'x': [0, 1, 2, 3],\n",
    "    'y': ['zero', 'one', 'two', 'three']\n",
    "})\n",
    "\n",
    "df\n"
   ]
  },
  {
   "cell_type": "code",
   "execution_count": 29,
   "metadata": {},
   "outputs": [
    {
     "data": {
      "text/html": "<div>\n<style scoped>\n    .dataframe tbody tr th:only-of-type {\n        vertical-align: middle;\n    }\n\n    .dataframe tbody tr th {\n        vertical-align: top;\n    }\n\n    .dataframe thead th {\n        text-align: right;\n    }\n</style>\n<table border=\"1\" class=\"dataframe\">\n  <thead>\n    <tr style=\"text-align: right;\">\n      <th></th>\n      <th>x</th>\n      <th>y</th>\n    </tr>\n  </thead>\n  <tbody>\n    <tr>\n      <th>0</th>\n      <td>0</td>\n      <td>zero</td>\n    </tr>\n    <tr>\n      <th>1</th>\n      <td>1</td>\n      <td>one</td>\n    </tr>\n  </tbody>\n</table>\n</div>",
      "text/plain": "   x     y\n0  0  zero\n1  1   one"
     },
     "execution_count": 29,
     "metadata": {},
     "output_type": "execute_result"
    }
   ],
   "source": [
    "@register_verb(pd.DataFrame)\n",
    "def head(data, n=5):\n",
    "    return data.head(n)\n",
    "\n",
    "df >> head(2)"
   ]
  },
  {
   "cell_type": "code",
   "execution_count": 30,
   "metadata": {},
   "outputs": [
    {
     "data": {
      "text/html": "<div>\n<style scoped>\n    .dataframe tbody tr th:only-of-type {\n        vertical-align: middle;\n    }\n\n    .dataframe tbody tr th {\n        vertical-align: top;\n    }\n\n    .dataframe thead th {\n        text-align: right;\n    }\n</style>\n<table border=\"1\" class=\"dataframe\">\n  <thead>\n    <tr style=\"text-align: right;\">\n      <th></th>\n      <th>x</th>\n      <th>y</th>\n      <th>z</th>\n    </tr>\n  </thead>\n  <tbody>\n    <tr>\n      <th>0</th>\n      <td>0</td>\n      <td>zero</td>\n      <td>1</td>\n    </tr>\n    <tr>\n      <th>1</th>\n      <td>1</td>\n      <td>one</td>\n      <td>1</td>\n    </tr>\n    <tr>\n      <th>2</th>\n      <td>2</td>\n      <td>two</td>\n      <td>1</td>\n    </tr>\n    <tr>\n      <th>3</th>\n      <td>3</td>\n      <td>three</td>\n      <td>1</td>\n    </tr>\n  </tbody>\n</table>\n</div>",
      "text/plain": "   x      y  z\n0  0   zero  1\n1  1    one  1\n2  2    two  1\n3  3  three  1"
     },
     "execution_count": 30,
     "metadata": {},
     "output_type": "execute_result"
    }
   ],
   "source": [
    "@register_verb(pd.DataFrame)\n",
    "def mutate(data, **kwargs):\n",
    "    data = data.copy()\n",
    "    for key, val in kwargs.items():\n",
    "        data[key] = val\n",
    "    return data\n",
    "\n",
    "df >> mutate(z=1)"
   ]
  },
  {
   "cell_type": "code",
   "execution_count": 31,
   "metadata": {},
   "outputs": [
    {
     "data": {
      "text/html": "<div>\n<style scoped>\n    .dataframe tbody tr th:only-of-type {\n        vertical-align: middle;\n    }\n\n    .dataframe tbody tr th {\n        vertical-align: top;\n    }\n\n    .dataframe thead th {\n        text-align: right;\n    }\n</style>\n<table border=\"1\" class=\"dataframe\">\n  <thead>\n    <tr style=\"text-align: right;\">\n      <th></th>\n      <th>x</th>\n      <th>y</th>\n      <th>z</th>\n    </tr>\n  </thead>\n  <tbody>\n    <tr>\n      <th>0</th>\n      <td>0</td>\n      <td>zero</td>\n      <td>0</td>\n    </tr>\n    <tr>\n      <th>1</th>\n      <td>1</td>\n      <td>one</td>\n      <td>1</td>\n    </tr>\n    <tr>\n      <th>2</th>\n      <td>2</td>\n      <td>two</td>\n      <td>2</td>\n    </tr>\n    <tr>\n      <th>3</th>\n      <td>3</td>\n      <td>three</td>\n      <td>3</td>\n    </tr>\n  </tbody>\n</table>\n</div>",
      "text/plain": "   x      y  z\n0  0   zero  0\n1  1    one  1\n2  2    two  2\n3  3  three  3"
     },
     "execution_count": 31,
     "metadata": {},
     "output_type": "execute_result"
    }
   ],
   "source": [
    "df >> mutate(z=f.x)"
   ]
  },
  {
   "cell_type": "code",
   "execution_count": 32,
   "metadata": {},
   "outputs": [
    {
     "data": {
      "text/html": "<div>\n<style scoped>\n    .dataframe tbody tr th:only-of-type {\n        vertical-align: middle;\n    }\n\n    .dataframe tbody tr th {\n        vertical-align: top;\n    }\n\n    .dataframe thead th {\n        text-align: right;\n    }\n</style>\n<table border=\"1\" class=\"dataframe\">\n  <thead>\n    <tr style=\"text-align: right;\">\n      <th></th>\n      <th>x</th>\n      <th>z</th>\n    </tr>\n  </thead>\n  <tbody>\n    <tr>\n      <th>0</th>\n      <td>0</td>\n      <td>0</td>\n    </tr>\n    <tr>\n      <th>1</th>\n      <td>1</td>\n      <td>2</td>\n    </tr>\n    <tr>\n      <th>2</th>\n      <td>2</td>\n      <td>4</td>\n    </tr>\n    <tr>\n      <th>3</th>\n      <td>3</td>\n      <td>6</td>\n    </tr>\n  </tbody>\n</table>\n</div>",
      "text/plain": "   x  z\n0  0  0\n1  1  2\n2  2  4\n3  3  6"
     },
     "execution_count": 32,
     "metadata": {},
     "output_type": "execute_result"
    }
   ],
   "source": [
    "# Verbs that don't compile f.a to data, but just the column name\n",
    "@register_verb(pd.DataFrame, context=Context.SELECT)\n",
    "def select(data, *columns):\n",
    "    return data.loc[:, columns]\n",
    "\n",
    "# f.x won't be compiled as df.x but just 'x'\n",
    "df >> mutate(z=2*f.x) >> select(f.x, f.z)\n"
   ]
  },
  {
   "cell_type": "code",
   "execution_count": 33,
   "metadata": {},
   "outputs": [
    {
     "data": {
      "text/html": "<div>\n<style scoped>\n    .dataframe tbody tr th:only-of-type {\n        vertical-align: middle;\n    }\n\n    .dataframe tbody tr th {\n        vertical-align: top;\n    }\n\n    .dataframe thead th {\n        text-align: right;\n    }\n</style>\n<table border=\"1\" class=\"dataframe\">\n  <thead>\n    <tr style=\"text-align: right;\">\n      <th></th>\n      <th>x</th>\n      <th>y</th>\n    </tr>\n  </thead>\n  <tbody>\n    <tr>\n      <th>0</th>\n      <td>0</td>\n      <td>zero</td>\n    </tr>\n    <tr>\n      <th>1</th>\n      <td>10</td>\n      <td>one</td>\n    </tr>\n    <tr>\n      <th>2</th>\n      <td>20</td>\n      <td>two</td>\n    </tr>\n    <tr>\n      <th>3</th>\n      <td>30</td>\n      <td>three</td>\n    </tr>\n  </tbody>\n</table>\n</div>",
      "text/plain": "    x      y\n0   0   zero\n1  10    one\n2  20    two\n3  30  three"
     },
     "execution_count": 33,
     "metadata": {},
     "output_type": "execute_result"
    }
   ],
   "source": [
    "# Compile the args inside the verb\n",
    "@register_verb(pd.DataFrame, context=Context.UNSET)\n",
    "def mutate_existing(data, column, value):\n",
    "    column = evaluate_expr(column, data, Context.SELECT)\n",
    "    value = evaluate_expr(value, data, Context.EVAL)\n",
    "    data = data.copy()\n",
    "    data[column] = value\n",
    "    return data\n",
    "\n",
    "# First f.x compiled as column name, and second as Series data\n",
    "df2 = df >> mutate_existing(f.x, 10 * f.x)\n",
    "df2"
   ]
  },
  {
   "cell_type": "code",
   "execution_count": 36,
   "metadata": {},
   "outputs": [
    {
     "data": {
      "text/html": "<div>\n<style scoped>\n    .dataframe tbody tr th:only-of-type {\n        vertical-align: middle;\n    }\n\n    .dataframe tbody tr th {\n        vertical-align: top;\n    }\n\n    .dataframe thead th {\n        text-align: right;\n    }\n</style>\n<table border=\"1\" class=\"dataframe\">\n  <thead>\n    <tr style=\"text-align: right;\">\n      <th></th>\n      <th>x</th>\n      <th>y</th>\n    </tr>\n  </thead>\n  <tbody>\n    <tr>\n      <th>0</th>\n      <td>0</td>\n      <td>zero</td>\n    </tr>\n    <tr>\n      <th>1</th>\n      <td>20</td>\n      <td>one</td>\n    </tr>\n    <tr>\n      <th>2</th>\n      <td>40</td>\n      <td>two</td>\n    </tr>\n    <tr>\n      <th>3</th>\n      <td>60</td>\n      <td>three</td>\n    </tr>\n  </tbody>\n</table>\n</div>",
      "text/plain": "    x      y\n0   0   zero\n1  20    one\n2  40    two\n3  60  three"
     },
     "execution_count": 36,
     "metadata": {},
     "output_type": "execute_result"
    }
   ],
   "source": [
    "# Evaluate the arguments by yourself\n",
    "@register_verb(pd.DataFrame, context=Context.UNSET)\n",
    "def mutate_existing2(data, column, value):\n",
    "    column = evaluate_expr(column, data, Context.SELECT)\n",
    "    value = evaluate_expr(value, df2, Context.EVAL)\n",
    "    data = data.copy()\n",
    "    data[column] = value\n",
    "    return data\n",
    "\n",
    "df >> mutate_existing2(f.x, 2 * f.x)"
   ]
  },
  {
   "cell_type": "code",
   "execution_count": 37,
   "metadata": {},
   "outputs": [
    {
     "data": {
      "text/plain": "2"
     },
     "execution_count": 37,
     "metadata": {},
     "output_type": "execute_result"
    }
   ],
   "source": [
    "# register for multiple types\n",
    "@register_verb(int)\n",
    "def add(data, other):\n",
    "    return data + other\n",
    "\n",
    "# add is actually a singledispatch generic function\n",
    "@add.register(float)\n",
    "def _(data, other):\n",
    "    return data + other\n",
    "\n",
    "1 >> add(1)\n"
   ]
  },
  {
   "cell_type": "code",
   "execution_count": 38,
   "metadata": {},
   "outputs": [
    {
     "data": {
      "text/plain": "2.1"
     },
     "execution_count": 38,
     "metadata": {},
     "output_type": "execute_result"
    }
   ],
   "source": [
    "1.1 >> add(1.0)\n"
   ]
  },
  {
   "cell_type": "code",
   "execution_count": 39,
   "metadata": {},
   "outputs": [
    {
     "data": {
      "text/plain": "6"
     },
     "execution_count": 39,
     "metadata": {},
     "output_type": "execute_result"
    }
   ],
   "source": [
    "# As it's a singledispatch generic function, we can do it for multiple types\n",
    "# with the same logic\n",
    "@register_verb\n",
    "def mul(data, other):\n",
    "    raise NotImplementedError # not invalid until types registered\n",
    "\n",
    "@mul.register(int)\n",
    "@mul.register(float)\n",
    "def _(data, other):\n",
    "    return data * other\n",
    "\n",
    "3 >> mul(2)"
   ]
  },
  {
   "cell_type": "code",
   "execution_count": 40,
   "metadata": {},
   "outputs": [
    {
     "data": {
      "text/plain": "6.4"
     },
     "execution_count": 40,
     "metadata": {},
     "output_type": "execute_result"
    }
   ],
   "source": [
    "3.2 >> mul(2)"
   ]
  },
  {
   "cell_type": "markdown",
   "metadata": {},
   "source": [
    "### Functions used in verb arguments"
   ]
  },
  {
   "cell_type": "code",
   "execution_count": 42,
   "metadata": {},
   "outputs": [
    {
     "data": {
      "text/html": "<div>\n<style scoped>\n    .dataframe tbody tr th:only-of-type {\n        vertical-align: middle;\n    }\n\n    .dataframe tbody tr th {\n        vertical-align: top;\n    }\n\n    .dataframe thead th {\n        text-align: right;\n    }\n</style>\n<table border=\"1\" class=\"dataframe\">\n  <thead>\n    <tr style=\"text-align: right;\">\n      <th></th>\n      <th>x</th>\n      <th>y</th>\n      <th>z</th>\n    </tr>\n  </thead>\n  <tbody>\n    <tr>\n      <th>0</th>\n      <td>0</td>\n      <td>zero</td>\n      <td>10</td>\n    </tr>\n    <tr>\n      <th>1</th>\n      <td>1</td>\n      <td>one</td>\n      <td>10</td>\n    </tr>\n    <tr>\n      <th>2</th>\n      <td>2</td>\n      <td>two</td>\n      <td>20</td>\n    </tr>\n    <tr>\n      <th>3</th>\n      <td>3</td>\n      <td>three</td>\n      <td>20</td>\n    </tr>\n  </tbody>\n</table>\n</div>",
      "text/plain": "   x      y   z\n0  0   zero  10\n1  1    one  10\n2  2    two  20\n3  3  three  20"
     },
     "execution_count": 42,
     "metadata": {},
     "output_type": "execute_result"
    }
   ],
   "source": [
    "@register_func\n",
    "def if_else(data, cond, true, false):\n",
    "    cond.loc[cond.isin([True]), ] = true\n",
    "    cond.loc[cond.isin([False]), ] = false\n",
    "    return cond\n",
    "\n",
    "# The function is then also a singledispatch generic function\n",
    "\n",
    "df >> mutate(z=if_else(f.x>1, 20, 10))"
   ]
  },
  {
   "cell_type": "markdown",
   "metadata": {},
   "source": [
    "### Operators\n",
    "You may also redefine the behavior of the operators"
   ]
  },
  {
   "cell_type": "code",
   "execution_count": 44,
   "metadata": {},
   "outputs": [
    {
     "data": {
      "text/html": "<div>\n<style scoped>\n    .dataframe tbody tr th:only-of-type {\n        vertical-align: middle;\n    }\n\n    .dataframe tbody tr th {\n        vertical-align: top;\n    }\n\n    .dataframe thead th {\n        text-align: right;\n    }\n</style>\n<table border=\"1\" class=\"dataframe\">\n  <thead>\n    <tr style=\"text-align: right;\">\n      <th></th>\n      <th>x</th>\n      <th>y</th>\n      <th>z</th>\n    </tr>\n  </thead>\n  <tbody>\n    <tr>\n      <th>0</th>\n      <td>0</td>\n      <td>zero</td>\n      <td>0</td>\n    </tr>\n    <tr>\n      <th>1</th>\n      <td>1</td>\n      <td>one</td>\n      <td>1</td>\n    </tr>\n    <tr>\n      <th>2</th>\n      <td>2</td>\n      <td>two</td>\n      <td>4</td>\n    </tr>\n    <tr>\n      <th>3</th>\n      <td>3</td>\n      <td>three</td>\n      <td>9</td>\n    </tr>\n  </tbody>\n</table>\n</div>",
      "text/plain": "   x      y  z\n0  0   zero  0\n1  1    one  1\n2  2    two  4\n3  3  three  9"
     },
     "execution_count": 44,
     "metadata": {},
     "output_type": "execute_result"
    }
   ],
   "source": [
    "@register_operator\n",
    "class MyOperators(Operator):\n",
    "    def xor(self, a, b):\n",
    "        \"\"\"Inteprete X ^ Y as pow(X, Y).\"\"\"\n",
    "        return a ** b\n",
    "\n",
    "df >> mutate(z=f.x ^ 2)"
   ]
  },
  {
   "cell_type": "markdown",
   "metadata": {},
   "source": [
    "### Caveats\n",
    "\n",
    "- Non-default behaviors for `&` and `|` operators:\n",
    "\n",
    "    You have to use `and_` and `or_` for them, as `and` and `or` are python keywords.\n",
    "\n",
    "- Limitations:\n",
    "\n",
    "    Any limitations apply to `executing` to detect the AST node will apply to `pipda`. It may not work in some circumstances where other AST magics apply.\n",
    "\n",
    "- Use the original verb or function from `register_verb`/`register_func` directly:\n",
    "\n",
    "    ```python\n",
    "    df >> mutate(z=f.x ^ 2)\n",
    "    # use the select function directly\n",
    "    select(data, 'x', 'z')\n",
    "    ```\n",
    "\n",
    "- Use another piping sign\n",
    "\n",
    "    ```python\n",
    "    from pipda import register_piping_sign\n",
    "    register_piping_sign('^')\n",
    "\n",
    "    # register verbs and functions\n",
    "    df ^ verb1(...) ^ verb2(...)\n",
    "    ```\n",
    "\n",
    "    Allowed signs are: `+`, `-`, `*`, `@`, `/`, `//`, `%`, `**`, `<<`, `>>`, `&`, `^` and `|`.\n",
    "\n",
    "- The context\n",
    "\n",
    "    The context is only applied to the `DirectReference` objects or unary operators, like `-f.A`, `+f.A`, `~f.A`, `f.A`, `f['A']`, `[f.A, f.B]`, etc. Any other `Expression` wrapping those objects or other operators getting involved will turn the context to `Context.EVAL`\n",
    "\n",
    "## How it works\n",
    "### The verbs\n",
    "```R\n",
    "data %>% verb(arg1, ..., key1=kwarg1, ...)\n",
    "```\n",
    "The above is a typical `dplyr`/`tidyr` data piping syntax.\n",
    "\n",
    "The counterpart R syntax we expect is:\n",
    "```python\n",
    "data >> verb(arg1, ..., key1=kwarg1, ...)\n",
    "```\n",
    "To implement that, we need to defer the execution of the `verb` by turning it into a `Verb` object, which holds all information of the function to be executed later. The `Verb` object won't be executed until the `data` is piped in. It all thanks to the [`executing`][5] package to let us determine the ast nodes where the function is called. So that we are able to determine whether the function is called in a piping mode.\n",
    "\n",
    "If an argument is referring to a column of the data and the column will be involved in the later computation, the it also needs to be deferred. For example, with `dplyr` in `R`:\n",
    "```R\n",
    "data %>% mutate(z=a)\n",
    "```\n",
    "is trying add a column named `z` with the data from column `a`.\n",
    "\n",
    "In python, we want to do the same with:\n",
    "```python\n",
    "data >> mutate(z=f.a)\n",
    "```\n",
    "where `f.a` is a `Reference` object that carries the column information without fetching the data while python sees it immmediately.\n",
    "\n",
    "Here the trick is `f`. Like other packages, we introduced the `Symbolic` object, which will connect the parts in the argument and make the whole argument an `Expression` object. This object is holding the execution information, which we could use later when the piping is detected. \n",
    "\n",
    "### The functions\n",
    "Then what if we want to use some functions in the arguments of the `verb`?\n",
    "For example:\n",
    "```python\n",
    "data >> select(starts_with('a'))\n",
    "```\n",
    "to select the columns with names start with `'a'`.\n",
    "\n",
    "No doubt that we need to defer the execution of the function, too. The trick is that we let the function return a `function` object as well, and evaluate it as the argument of the verb.\n",
    "\n",
    "### The operators\n",
    "`pipda` also opens oppotunities to change the behavior of the operators in verb/function arguments. This allows us to mimic something like this:\n",
    "```python\n",
    "data >> select(-f.a) # select all columns but `a`\n",
    "```\n",
    "\n",
    "To do that, we turn it into an `Operator` object. Just like a `Verb` or a `Function` object, the execution is deferred. By default, the operators we used are from the python standard library `operator`. `operator.neg` in the above example.\n",
    "\n",
    "You can also define you own by subclassing the `Operator` class, and then register it to replace the default one by decorating it with `register_operator`.\n",
    "\n",
    "\n",
    "[1]: https://github.com/machow/siuba\n",
    "[2]: https://github.com/kieferk/dfply\n",
    "[3]: https://github.com/has2k1/plydata\n",
    "[4]: https://github.com/dodger487/dplython\n",
    "[5]: https://github.com/alexmojaki/executing\n",
    "[6]: https://github.com/pwwang/plyrda\n"
   ]
  }
 ],
 "metadata": {
  "kernelspec": {
   "display_name": "Python 3",
   "language": "python",
   "name": "python3"
  },
  "language_info": {
   "codemirror_mode": {
    "name": "ipython",
    "version": 3
   },
   "file_extension": ".py",
   "mimetype": "text/x-python",
   "name": "python",
   "nbconvert_exporter": "python",
   "pygments_lexer": "ipython3",
   "version": "3.7.8"
  },
  "orig_nbformat": 2
 },
 "nbformat": 4,
 "nbformat_minor": 2
}
